{
 "cells": [
  {
   "cell_type": "code",
   "execution_count": 1,
   "id": "d86d972b",
   "metadata": {},
   "outputs": [],
   "source": [
    "import requests\n",
    "def get_weather(city_name, api_key):\n",
    "    \"\"\"\n",
    "    Fetches weather data from OpenWeatherMap API for a given city.\n",
    "    \"\"\"\n",
    "    base_url = \"http://api.openweathermap.org/data/2.5/weather\"\n",
    "    params = {\n",
    "        'q': city_name,\n",
    "        'appid': api_key,\n",
    "        'units': 'metric'\n",
    "    }\n",
    "\n",
    "    try:\n",
    "        response = requests.get(base_url, params=params)\n",
    "        response.raise_for_status()\n",
    "        data = response.json()\n",
    "\n",
    "        weather = {\n",
    "            \"City\": data[\"name\"],\n",
    "            \"Temperature (°C)\": data[\"main\"][\"temp\"],\n",
    "            \"Description\": data[\"weather\"][0][\"description\"].capitalize(),\n",
    "            \"Humidity (%)\": data[\"main\"][\"humidity\"],\n",
    "            \"Wind Speed (m/s)\": data[\"wind\"][\"speed\"]\n",
    "        }\n",
    "\n",
    "        return weather\n",
    "\n",
    "    except requests.exceptions.HTTPError:\n",
    "        return \"Invalid city name. Please try again.\"\n",
    "    except requests.exceptions.RequestException as e:\n",
    "        return f\"Network error: {e}\"\n",
    "    except Exception as e:\n",
    "        return f\"Unexpected error: {e}\""
   ]
  },
  {
   "cell_type": "code",
   "execution_count": null,
   "id": "036b2d58",
   "metadata": {},
   "outputs": [
    {
     "name": "stdout",
     "output_type": "stream",
     "text": [
      "📍 Weather Forecast CLI App 📍\n",
      "Enter your OpenWeatherMap API key: 19f60c6374422e825cb1072d27be4d8b\n",
      "\n",
      "Enter city name (or type 'exit' to quit): Newark\n",
      "\n",
      "🌤 Weather Report:\n",
      "City: Newark\n",
      "Temperature (°C): 19.38\n",
      "Description: Overcast clouds\n",
      "Humidity (%): 82\n",
      "Wind Speed (m/s): 4.12\n"
     ]
    }
   ],
   "source": [
    "def main():\n",
    "    print(\"📍 Weather Forecast CLI App 📍\")\n",
    "    api_key = input(\"Enter your OpenWeatherMap API key: \").strip()\n",
    "    \n",
    "    while True:\n",
    "        city = input(\"\\nEnter city name (or type 'exit' to quit): \").strip()\n",
    "        if city.lower() == 'exit':\n",
    "            print(\"Goodbye!\")\n",
    "            break\n",
    "\n",
    "        result = get_weather(city, api_key)\n",
    "\n",
    "        if isinstance(result, dict):\n",
    "            print(\"\\n🌤 Weather Report:\")\n",
    "            for key, value in result.items():\n",
    "                print(f\"{key}: {value}\")\n",
    "        else:\n",
    "            print(f\"⚠️ {result}\")\n",
    "\n",
    "if __name__ == \"__main__\":\n",
    "    main()"
   ]
  },
  {
   "cell_type": "code",
   "execution_count": null,
   "id": "7b3c48da",
   "metadata": {},
   "outputs": [],
   "source": []
  }
 ],
 "metadata": {
  "kernelspec": {
   "display_name": "Python 3 (ipykernel)",
   "language": "python",
   "name": "python3"
  },
  "language_info": {
   "codemirror_mode": {
    "name": "ipython",
    "version": 3
   },
   "file_extension": ".py",
   "mimetype": "text/x-python",
   "name": "python",
   "nbconvert_exporter": "python",
   "pygments_lexer": "ipython3",
   "version": "3.10.9"
  }
 },
 "nbformat": 4,
 "nbformat_minor": 5
}
